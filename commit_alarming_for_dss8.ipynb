{
 "cells": [
  {
   "cell_type": "markdown",
   "metadata": {},
   "source": [
    "# DSS 8기 1일 1 commit\n",
    "\n",
    "    - 매일 11시 pm, 아직 커밋 안 한 사람 report 공지 through Slack 공지 창 \n",
    "    "
   ]
  },
  {
   "cell_type": "code",
   "execution_count": 12,
   "metadata": {},
   "outputs": [],
   "source": [
    "import requests\n",
    "from bs4 import BeautifulSoup \n",
    "import re\n",
    "import datetime\n",
    "import json\n",
    "import pickle "
   ]
  },
  {
   "cell_type": "code",
   "execution_count": 15,
   "metadata": {},
   "outputs": [],
   "source": [
    "####### \"https://github.com/minus31\" : \"김 현규 매니져\",\n",
    "github_table = {\n",
    "    \"https://github.com/ViniKim\" : '김 휘수B',\n",
    "    \"https://github.com/tmdgms\" : \"백 승흔B\",\n",
    "    \"https://github.com/MaengHyoyeol\" : \"맹 효열B\", \n",
    "    \"https://github.com/brightscannon\" : \"김 민우B\",\n",
    "    \"https://github.com/Junhojuno\" : \"김 준호B\", \n",
    "    \"https://github.com/hyelansgithub\" : \"정 혜란B\",\n",
    "    \"https://github.com/annakimm\" : \"김 혜진B\" ,\n",
    "    \"https://github.com/Jacob-Hong\" : \"홍 재영B\",\n",
    "    \"https://github.com/seokyeongheo\" : '허 석영B',\n",
    "    \"https://github.com/jtrhee\" : \"이 정택B\",\n",
    "    \"https://github.com/ChanminJun\" : \"전 찬민B\",\n",
    "    \"https://github.com/SeungwooYang\" : \"양 승우B\",\n",
    "    \"https://github.com/Jeonhyunil\" : \"전 현일B\",\n",
    "    \"https://github.com/jaykim-asset\" : \"김 종재B\",\n",
    "    \"https://github.com/hhj235\" : \"황 한진A\",\n",
    "    \"https://github.com/woncheolSon\" : \"손 원철A\",\n",
    "    \"https://github.com/SHDeseo\" : \"배 소현A\",\n",
    "    \"https://github.com/jahn0406\" : \"안 태언A\",\n",
    "    \"https://github.com/benestump\" : \"윤 현근A\",\n",
    "    \"http://github.com/twosb\" : \"이 상범A\",\n",
    "}\n",
    "\n",
    "github_url = [url for url in github_table.keys()]\n"
   ]
  },
  {
   "cell_type": "code",
   "execution_count": 25,
   "metadata": {},
   "outputs": [],
   "source": [
    "re.search(r'[a-z]]:+', github_url[0])"
   ]
  },
  {
   "cell_type": "code",
   "execution_count": 17,
   "metadata": {},
   "outputs": [],
   "source": [
    "# today_count\n",
    "today_counts = {}\n",
    "today_date = datetime.datetime.now().strftime('%Y-%m-%d')\n",
    "for i in range(len(github_url)):\n",
    "    # getting html file\n",
    "    res = requests.get(github_url[i])\n",
    "    soup = BeautifulSoup(res.content, \"html.parser\")\n",
    "    # today_date's data\n",
    "    today = soup.select_one(\"rect[data-date={}]\".format(today_date))\n",
    "    # count! (target)\n",
    "    today_count = int(today[\"data-count\"])\n",
    "    # github url(key)와 연결되어있는 이름 호출하고 이에 그날의 커밋 수를 할당\n",
    "    today_counts[github_table[github_url[i]]] = today_count"
   ]
  },
  {
   "cell_type": "code",
   "execution_count": 18,
   "metadata": {},
   "outputs": [
    {
     "data": {
      "text/plain": [
       "{'김 민우B': 0,\n",
       " '김 종재B': 0,\n",
       " '김 준호B': 0,\n",
       " '김 혜진B': 0,\n",
       " '김 휘수B': 0,\n",
       " '맹 효열B': 0,\n",
       " '배 소현A': 0,\n",
       " '백 승흔B': 0,\n",
       " '손 원철A': 0,\n",
       " '안 태언A': 0,\n",
       " '양 승우B': 0,\n",
       " '윤 현근A': 0,\n",
       " '이 상범A': 3,\n",
       " '이 정택B': 3,\n",
       " '전 찬민B': 3,\n",
       " '전 현일B': 0,\n",
       " '정 혜란B': 0,\n",
       " '허 석영B': 0,\n",
       " '홍 재영B': 0,\n",
       " '황 한진A': 0}"
      ]
     },
     "execution_count": 18,
     "metadata": {},
     "output_type": "execute_result"
    }
   ],
   "source": [
    "today_counts"
   ]
  },
  {
   "cell_type": "code",
   "execution_count": 19,
   "metadata": {},
   "outputs": [],
   "source": [
    "def today_commit_max(today_counts):\n",
    "    \n",
    "    \"\"\"\n",
    "    today_counts : 오늘의 커밋 현황 \n",
    "    ---------------------------\n",
    "    return : 중복인 사람 모두 출력 \n",
    "    \"\"\"\n",
    "    \n",
    "    result = []\n",
    "    max_commit = max(today_counts.items(), key = lambda x: x[1])[1]\n",
    "    \n",
    "    for name in today_counts.keys():\n",
    "        if today_counts[name] == max_commit:\n",
    "            result.append([name, str(today_counts[name])])\n",
    "    \n",
    "    return result\n",
    "\n",
    "today_commit_king = today_commit_max(today_counts)\n"
   ]
  },
  {
   "cell_type": "code",
   "execution_count": 20,
   "metadata": {},
   "outputs": [],
   "source": [
    "# finding no commit people \n",
    "\n",
    "no_commit_people = [] # no commit people list \n",
    "for name in today_counts.keys():\n",
    "    if today_counts[name] == 0:\n",
    "        no_commit_people.append(name)"
   ]
  },
  {
   "cell_type": "code",
   "execution_count": 21,
   "metadata": {},
   "outputs": [],
   "source": [
    "# for security of webhook url \n",
    "\n",
    "# Webhook_URL = \"\"\n",
    "# with open(\"webhookurl.p\", \"wb\") as f:\n",
    "#     pickle.dump(Webhook_URL, f) # (obj, file)\n"
   ]
  },
  {
   "cell_type": "code",
   "execution_count": 22,
   "metadata": {},
   "outputs": [],
   "source": [
    "# load webhook url \n",
    "\n",
    "with open(\"webhookurl.p\", \"rb\") as f:\n",
    "    webhook_url = pickle.load(f)"
   ]
  },
  {
   "cell_type": "code",
   "execution_count": 7,
   "metadata": {},
   "outputs": [
    {
     "name": "stdout",
     "output_type": "stream",
     "text": [
      "<Response [200]>\n"
     ]
    }
   ],
   "source": [
    "def send_slack(msg, emoji):\n",
    "    \n",
    "\n",
    "    # 슬랙 웹훅 URL\n",
    "    webhook_URL = webhook_url\n",
    "\n",
    "    # 데이터\n",
    "    #1day1commit\n",
    "    data = {\n",
    "        \"channel\": \"#1day1commit\", # 채널이름이 다르면 다른 채널의 이름을 작성\n",
    "        \"emoji\": emoji,\n",
    "        \"msg\": msg,\n",
    "        \"username\": \"김 현규 매니져B\",\n",
    "    }\n",
    "\n",
    "    # 페이로드 생성\n",
    "    payload = {\n",
    "        \"channel\": data[\"channel\"],\n",
    "        \"username\": data[\"username\"],\n",
    "        \"icon_emoji\": data[\"emoji\"], \n",
    "        \"text\": data[\"msg\"],\n",
    "    }\n",
    "\n",
    "    # 전송\n",
    "    response = requests.post(\n",
    "        webhook_URL, \n",
    "        data = json.dumps(payload),\n",
    "    )\n",
    "\n",
    "    # 결과    \n",
    "    print(response)\n",
    "    \n",
    "# creating msg and emoji \n",
    "msg = \"\"\"\n",
    "     *오늘 커밋 안한 사람! :shipit: * \\n\\n> *`{}!`* \\n\\n *오늘의 커밋왕* :gorilla: \\n\\n> *`{}`* \\n 열심히 하셨군요 ! \n",
    "    \"\"\".format((\"! \").join(no_commit_people), (\"`*, \\n*`\").join([\" : \".join(r) for r in today_commit_king]))\n",
    "emoji = \":angry:\"\n",
    "if len(no_commit_people) == 0:\n",
    "    msg = \"\"\"\n",
    "    *한 사람도 빠짐 없이 커밋 하다니!* :woman-wrestling: \\n 여러분들이 자랑스럽습니다. 앞으로도 쭉! 화이팅 입니다! \\n \n",
    "    *오늘의 커밋왕* :gorilla: \\n\\n> *`{}`* \\n\\n 모두들 하룻동안 수고하셨습니다. \n",
    "    \"\"\".format((\"`*, \\n*`\").join([\" : \".join(r) for r in today_commit_king]))\n",
    "    emoji = \":peach:\"\n",
    "    \n",
    "\n",
    "send_slack(msg, emoji)"
   ]
  },
  {
   "cell_type": "code",
   "execution_count": 11,
   "metadata": {},
   "outputs": [
    {
     "name": "stdout",
     "output_type": "stream",
     "text": [
      "{'김 휘수B': 4, '백 승흔B': 5, '맹 효열B': 2, '김 민우B': 9, '김 준호B': 7, '정 혜란B': 2, '김 혜진B': 3, '홍 재영B': 11, '허 석영B': 4, '이 정택B': 14, '전 찬민B': 7, '양 승우B': 1, '전 현일B': 3, '김 종재B': 5, '황 한진A': 11, '손 원철A': 1, '배 소현A': 1, '안 태언A': 2, '윤 현근A': 3, '이 상범A': 6}\n"
     ]
    }
   ],
   "source": [
    "print(today_counts, sep=\"\\n\", end='\\n')"
   ]
  }
 ],
 "metadata": {
  "kernelspec": {
   "display_name": "Python 3",
   "language": "python",
   "name": "python3"
  },
  "language_info": {
   "codemirror_mode": {
    "name": "ipython",
    "version": 3
   },
   "file_extension": ".py",
   "mimetype": "text/x-python",
   "name": "python",
   "nbconvert_exporter": "python",
   "pygments_lexer": "ipython3",
   "version": "3.6.4"
  },
  "latex_envs": {
   "LaTeX_envs_menu_present": true,
   "autoclose": false,
   "autocomplete": true,
   "bibliofile": "biblio.bib",
   "cite_by": "apalike",
   "current_citInitial": 1,
   "eqLabelWithNumbers": true,
   "eqNumInitial": 1,
   "hotkeys": {
    "equation": "Ctrl-E",
    "itemize": "Ctrl-I"
   },
   "labels_anchors": false,
   "latex_user_defs": false,
   "report_style_numbering": false,
   "user_envs_cfg": false
  },
  "toc": {
   "base_numbering": 1,
   "nav_menu": {},
   "number_sections": true,
   "sideBar": true,
   "skip_h1_title": false,
   "title_cell": "Table of Contents",
   "title_sidebar": "Contents",
   "toc_cell": false,
   "toc_position": {},
   "toc_section_display": true,
   "toc_window_display": false
  }
 },
 "nbformat": 4,
 "nbformat_minor": 2
}
